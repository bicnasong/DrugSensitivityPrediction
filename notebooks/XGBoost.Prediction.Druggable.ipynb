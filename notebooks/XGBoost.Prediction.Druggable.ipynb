{
 "cells": [
  {
   "cell_type": "markdown",
   "id": "87dd77e7",
   "metadata": {},
   "source": [
    "# Make prediction using XGBoost models <br> on the Jurkat cell line data"
   ]
  },
  {
   "cell_type": "code",
   "execution_count": null,
   "id": "0151f435",
   "metadata": {},
   "outputs": [],
   "source": [
    "import os\n",
    "import pandas as pd\n",
    "import numpy as np\n",
    "import joblib\n",
    "from xgboost import XGBClassifier"
   ]
  },
  {
   "cell_type": "code",
   "execution_count": null,
   "id": "e25b8267",
   "metadata": {},
   "outputs": [],
   "source": [
    "# Load the dataset\n",
    "df = pd.read_csv(\"data/jurkat_beta_score.csv\")\n",
    "df = df.T\n",
    "df.columns = df.iloc[0,:]\n",
    "df.drop([\"Gene\"],inplace=True)\n",
    "df"
   ]
  },
  {
   "cell_type": "code",
   "execution_count": null,
   "id": "1339fc84",
   "metadata": {},
   "outputs": [],
   "source": [
    "# Get the features of the model  \n",
    "features = pd.read_csv(\"models/xgboost_druggable/features.csv\")\n",
    "features = features.gene_id.tolist()\n",
    "len(features)"
   ]
  },
  {
   "cell_type": "code",
   "execution_count": null,
   "id": "43f3d289",
   "metadata": {},
   "outputs": [],
   "source": [
    "df_subset = df[features]\n",
    "df_subset"
   ]
  },
  {
   "cell_type": "code",
   "execution_count": null,
   "id": "4da75c10",
   "metadata": {},
   "outputs": [],
   "source": [
    "df_subset.to_csv(\"data/jurkat_prediction_data.csv\")"
   ]
  },
  {
   "cell_type": "code",
   "execution_count": null,
   "id": "7997ee02",
   "metadata": {},
   "outputs": [],
   "source": [
    "df_test = pd.read_csv(\"data/jurkat_prediction_data.csv\")\n",
    "df_test.drop([\"Unnamed: 0\"], axis=1, inplace=True)\n",
    "df_test"
   ]
  },
  {
   "cell_type": "code",
   "execution_count": null,
   "id": "1bd480ae",
   "metadata": {},
   "outputs": [],
   "source": [
    "drug_list = pd.read_csv(\"models/xgboost_druggable/drug_list.txt\", header=None)\n",
    "drug_list = drug_list.iloc[:, 0].tolist()\n",
    "len(drug_list)"
   ]
  },
  {
   "cell_type": "code",
   "execution_count": null,
   "id": "3b888a04",
   "metadata": {},
   "outputs": [],
   "source": [
    "report_combined = pd.DataFrame()\n",
    "\n",
    "for drug in drug_list:\n",
    "    xgbc = joblib.load(\"models/xgboost_druggable/joblib/XGBoost_%s.joblib\" % drug)\n",
    "    y_pred = xgbc.predict(df_test)\n",
    "    y_prob = xgbc.predict_proba(df_test)[:, 1]\n",
    "    df1 = pd.DataFrame({'Drug':drug, 'Predicted':y_pred, 'Probability[1]':y_prob})\n",
    "    report_combined=report_combined.append(df1)"
   ]
  },
  {
   "cell_type": "code",
   "execution_count": null,
   "id": "4172991d",
   "metadata": {},
   "outputs": [],
   "source": [
    "report_combined.to_csv(\"results/jurkat_prediction_results.csv\")"
   ]
  }
 ],
 "metadata": {
  "kernelspec": {
   "display_name": "Python 3 (ipykernel)",
   "language": "python",
   "name": "python3"
  },
  "language_info": {
   "codemirror_mode": {
    "name": "ipython",
    "version": 3
   },
   "file_extension": ".py",
   "mimetype": "text/x-python",
   "name": "python",
   "nbconvert_exporter": "python",
   "pygments_lexer": "ipython3",
   "version": "3.7.9"
  }
 },
 "nbformat": 4,
 "nbformat_minor": 5
}
